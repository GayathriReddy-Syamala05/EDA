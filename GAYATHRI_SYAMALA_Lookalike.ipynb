{
  "nbformat": 4,
  "nbformat_minor": 0,
  "metadata": {
    "colab": {
      "provenance": []
    },
    "kernelspec": {
      "name": "python3",
      "display_name": "Python 3"
    },
    "language_info": {
      "name": "python"
    }
  },
  "cells": [
    {
      "cell_type": "code",
      "execution_count": 1,
      "metadata": {
        "colab": {
          "base_uri": "https://localhost:8080/"
        },
        "id": "jTkSwdKc6V6n",
        "outputId": "304b16e1-ae8c-4106-9d78-e7b08650721f"
      },
      "outputs": [
        {
          "output_type": "stream",
          "name": "stdout",
          "text": [
            "Requirement already satisfied: gdown in /usr/local/lib/python3.11/dist-packages (5.2.0)\n",
            "Requirement already satisfied: pandas in /usr/local/lib/python3.11/dist-packages (2.2.2)\n",
            "Requirement already satisfied: scikit-learn in /usr/local/lib/python3.11/dist-packages (1.6.1)\n",
            "Requirement already satisfied: beautifulsoup4 in /usr/local/lib/python3.11/dist-packages (from gdown) (4.12.3)\n",
            "Requirement already satisfied: filelock in /usr/local/lib/python3.11/dist-packages (from gdown) (3.17.0)\n",
            "Requirement already satisfied: requests[socks] in /usr/local/lib/python3.11/dist-packages (from gdown) (2.32.3)\n",
            "Requirement already satisfied: tqdm in /usr/local/lib/python3.11/dist-packages (from gdown) (4.67.1)\n",
            "Requirement already satisfied: numpy>=1.23.2 in /usr/local/lib/python3.11/dist-packages (from pandas) (1.26.4)\n",
            "Requirement already satisfied: python-dateutil>=2.8.2 in /usr/local/lib/python3.11/dist-packages (from pandas) (2.8.2)\n",
            "Requirement already satisfied: pytz>=2020.1 in /usr/local/lib/python3.11/dist-packages (from pandas) (2024.2)\n",
            "Requirement already satisfied: tzdata>=2022.7 in /usr/local/lib/python3.11/dist-packages (from pandas) (2025.1)\n",
            "Requirement already satisfied: scipy>=1.6.0 in /usr/local/lib/python3.11/dist-packages (from scikit-learn) (1.13.1)\n",
            "Requirement already satisfied: joblib>=1.2.0 in /usr/local/lib/python3.11/dist-packages (from scikit-learn) (1.4.2)\n",
            "Requirement already satisfied: threadpoolctl>=3.1.0 in /usr/local/lib/python3.11/dist-packages (from scikit-learn) (3.5.0)\n",
            "Requirement already satisfied: six>=1.5 in /usr/local/lib/python3.11/dist-packages (from python-dateutil>=2.8.2->pandas) (1.17.0)\n",
            "Requirement already satisfied: soupsieve>1.2 in /usr/local/lib/python3.11/dist-packages (from beautifulsoup4->gdown) (2.6)\n",
            "Requirement already satisfied: charset-normalizer<4,>=2 in /usr/local/lib/python3.11/dist-packages (from requests[socks]->gdown) (3.4.1)\n",
            "Requirement already satisfied: idna<4,>=2.5 in /usr/local/lib/python3.11/dist-packages (from requests[socks]->gdown) (3.10)\n",
            "Requirement already satisfied: urllib3<3,>=1.21.1 in /usr/local/lib/python3.11/dist-packages (from requests[socks]->gdown) (2.3.0)\n",
            "Requirement already satisfied: certifi>=2017.4.17 in /usr/local/lib/python3.11/dist-packages (from requests[socks]->gdown) (2024.12.14)\n",
            "Requirement already satisfied: PySocks!=1.5.7,>=1.5.6 in /usr/local/lib/python3.11/dist-packages (from requests[socks]->gdown) (1.7.1)\n"
          ]
        },
        {
          "output_type": "stream",
          "name": "stderr",
          "text": [
            "Downloading...\n",
            "From: https://drive.google.com/uc?export=download&id=1bu_--mo79VdUG9oin4ybfFGRUSXAe-WE\n",
            "To: /content/Customers.csv\n",
            "100%|██████████| 8.54k/8.54k [00:00<00:00, 5.47MB/s]\n",
            "Downloading...\n",
            "From: https://drive.google.com/uc?export=download&id=1IKuDizVapw-hyktwfpoAoaGtHtTNHfd0\n",
            "To: /content/Products.csv\n",
            "100%|██████████| 4.25k/4.25k [00:00<00:00, 10.6MB/s]\n",
            "Downloading...\n",
            "From: https://drive.google.com/uc?export=download&id=1saEqdbBB-vuk2hxoAf4TzDEsykdKlzbF\n",
            "To: /content/Transactions.csv\n",
            "100%|██████████| 54.7k/54.7k [00:00<00:00, 47.9MB/s]"
          ]
        },
        {
          "output_type": "stream",
          "name": "stdout",
          "text": [
            "\n",
            "Customer Similarity Matrix:\n",
            "CustomerID     C0001     C0002     C0003     C0004     C0005     C0006  \\\n",
            "CustomerID                                                               \n",
            "C0001       1.000000 -0.056632  0.297282  0.321550  0.451788  0.448842   \n",
            "C0002      -0.056632  1.000000  0.553199 -0.265904  0.293715 -0.177791   \n",
            "C0003       0.297282  0.553199  1.000000  0.019644  0.235014  0.104203   \n",
            "C0004       0.321550 -0.265904  0.019644  1.000000 -0.578442  0.266074   \n",
            "C0005       0.451788  0.293715  0.235014 -0.578442  1.000000  0.260739   \n",
            "\n",
            "CustomerID     C0007     C0008     C0009     C0010  ...     C0191     C0192  \\\n",
            "CustomerID                                          ...                       \n",
            "C0001       0.430030  0.000327  0.005058 -0.065065  ...  0.504979  0.922194   \n",
            "C0002      -0.058274 -0.341554  0.545121  0.880433  ... -0.094114  0.112320   \n",
            "C0003      -0.092195 -0.111696  0.161748  0.577729  ...  0.260111  0.408887   \n",
            "C0004      -0.529323  0.672462 -0.488965 -0.164732  ...  0.643153  0.006819   \n",
            "C0005       0.881355 -0.676116  0.496838  0.194079  ... -0.002631  0.713801   \n",
            "\n",
            "CustomerID     C0193     C0194     C0195     C0196     C0197     C0198  \\\n",
            "CustomerID                                                               \n",
            "C0001      -0.018028 -0.005400  0.424062  0.067300  0.304958 -0.030646   \n",
            "C0002       0.340560 -0.190410  0.075406 -0.463454  0.526281  0.786631   \n",
            "C0003       0.293656 -0.146290  0.721727 -0.254447  0.465342  0.456943   \n",
            "C0004       0.014824  0.722931  0.548400 -0.192029 -0.411094 -0.531677   \n",
            "C0005       0.384887 -0.467388 -0.244750  0.168383  0.743441  0.550754   \n",
            "\n",
            "CustomerID     C0199     C0200  \n",
            "CustomerID                      \n",
            "C0001       0.415822  0.031245  \n",
            "C0002       0.337479  0.317512  \n",
            "C0003       0.297603 -0.245851  \n",
            "C0004      -0.273588  0.000497  \n",
            "C0005       0.687724 -0.014429  \n",
            "\n",
            "[5 rows x 200 columns]\n"
          ]
        },
        {
          "output_type": "stream",
          "name": "stderr",
          "text": [
            "\n"
          ]
        }
      ],
      "source": [
        "!pip install gdown pandas scikit-learn\n",
        "\n",
        "import pandas as pd\n",
        "import gdown\n",
        "from sklearn.metrics.pairwise import cosine_similarity\n",
        "from sklearn.preprocessing import StandardScaler\n",
        "\n",
        "urls = {\n",
        "    \"Customers.csv\": \"https://drive.google.com/uc?export=download&id=1bu_--mo79VdUG9oin4ybfFGRUSXAe-WE\",\n",
        "    \"Products.csv\": \"https://drive.google.com/uc?export=download&id=1IKuDizVapw-hyktwfpoAoaGtHtTNHfd0\",\n",
        "    \"Transactions.csv\": \"https://drive.google.com/uc?export=download&id=1saEqdbBB-vuk2hxoAf4TzDEsykdKlzbF\"\n",
        "}\n",
        "\n",
        "for filename, url in urls.items():\n",
        "    gdown.download(url, filename, quiet=False)\n",
        "\n",
        "customers = pd.read_csv(\"Customers.csv\")\n",
        "products = pd.read_csv(\"Products.csv\")\n",
        "transactions = pd.read_csv(\"Transactions.csv\")\n",
        "\n",
        "transactions_products = pd.merge(transactions, products, on=\"ProductID\", how=\"left\")\n",
        "\n",
        "customer_features = transactions_products.groupby(\"CustomerID\").agg({\n",
        "    \"Price_y\": [\"sum\", \"mean\", \"count\"],\n",
        "    \"Category\": lambda x: x.mode()[0] if not x.mode().empty else \"Unknown\"\n",
        "}).reset_index()\n",
        "\n",
        "customer_features.columns = [\"CustomerID\", \"TotalSpend\", \"AverageSpend\", \"TransactionCount\", \"TopCategory\"]\n",
        "\n",
        "customer_profiles = pd.merge(customers, customer_features, on=\"CustomerID\", how=\"left\").fillna(0)\n",
        "\n",
        "customer_profiles = pd.get_dummies(customer_profiles, columns=[\"Region\", \"TopCategory\"], drop_first=True)\n",
        "\n",
        "numerical_columns = [\"TotalSpend\", \"AverageSpend\", \"TransactionCount\"]\n",
        "scaler = StandardScaler()\n",
        "customer_profiles[numerical_columns] = scaler.fit_transform(customer_profiles[numerical_columns])\n",
        "\n",
        "non_numeric_columns = customer_profiles.select_dtypes(include=[\"object\"]).columns\n",
        "customer_data = customer_profiles.drop(columns=non_numeric_columns, errors=\"ignore\")\n",
        "\n",
        "customer_ids = customer_profiles[\"CustomerID\"]\n",
        "similarity_matrix = cosine_similarity(customer_data)\n",
        "\n",
        "similarity_df = pd.DataFrame(similarity_matrix, index=customer_ids, columns=customer_ids)\n",
        "\n",
        "print(\"\\nCustomer Similarity Matrix:\")\n",
        "print(similarity_df.head())\n"
      ]
    }
  ]
}